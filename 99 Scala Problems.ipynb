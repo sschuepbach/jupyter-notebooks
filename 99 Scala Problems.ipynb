{
 "cells": [
  {
   "cell_type": "markdown",
   "metadata": {
    "collapsed": true
   },
   "source": [
    "# 99 Probleme in Scala \n",
    "[S-99: Ninety-Nine Scala Problems](http://aperiodic.net/phil/scala/s-99/)"
   ]
  },
  {
   "cell_type": "markdown",
   "metadata": {
    "collapsed": true
   },
   "source": [
    "## 1. Letztes Element einer Liste"
   ]
  },
  {
   "cell_type": "markdown",
   "metadata": {},
   "source": [
    "### Klassisch"
   ]
  },
  {
   "cell_type": "code",
   "execution_count": 3,
   "metadata": {
    "collapsed": false
   },
   "outputs": [
    {
     "name": "stdout",
     "output_type": "stream",
     "text": [
      "Resultat: 2"
     ]
    }
   ],
   "source": [
    "val list = List(1, 2, 5, 3, 9, 2)\n",
    "printf(s\"Resultat: ${list(list.size - 1)}\")"
   ]
  },
  {
   "cell_type": "markdown",
   "metadata": {},
   "source": [
    "### Tail recursion"
   ]
  },
  {
   "cell_type": "code",
   "execution_count": 10,
   "metadata": {
    "collapsed": false
   },
   "outputs": [
    {
     "name": "stdout",
     "output_type": "stream",
     "text": [
      "Resultat: 2"
     ]
    }
   ],
   "source": [
    "def last[A](l: List[A]): Unit = {\n",
    "    @annotation.tailrec\n",
    "    def lastElem(h: A, t: List[A]): A = t match {\n",
    "        case head +: tail => lastElem(head, tail)\n",
    "        case _ => h\n",
    "    }\n",
    "    printf(s\"Resultat: ${lastElem(l.head, l.tail)}\")\n",
    "}\n",
    "last(list)"
   ]
  },
  {
   "cell_type": "markdown",
   "metadata": {
    "collapsed": true
   },
   "source": [
    "## 2. Zweitletztes Element einer Liste"
   ]
  },
  {
   "cell_type": "markdown",
   "metadata": {},
   "source": [
    "### Klassisch"
   ]
  },
  {
   "cell_type": "code",
   "execution_count": 2,
   "metadata": {
    "collapsed": false
   },
   "outputs": [
    {
     "name": "stdout",
     "output_type": "stream",
     "text": [
      "Resultat: 9"
     ]
    }
   ],
   "source": [
    "val list = List(1, 2, 5, 3, 9, 2)\n",
    "printf(s\"Resultat: ${list(list.size -2)}\")"
   ]
  },
  {
   "cell_type": "markdown",
   "metadata": {},
   "source": [
    "### Tail recursion"
   ]
  },
  {
   "cell_type": "code",
   "execution_count": 5,
   "metadata": {
    "collapsed": false
   },
   "outputs": [
    {
     "name": "stdout",
     "output_type": "stream",
     "text": [
      "Resultat: 9"
     ]
    }
   ],
   "source": [
    "def secondLast[A](l: List[A]): Unit = {\n",
    "    @annotation.tailrec\n",
    "    def secondLastElem(h: A, t: List[A]): A = t match {\n",
    "        case head +: tail if !tail.isEmpty => secondLastElem(head, tail)\n",
    "        case head +: tail => h\n",
    "    }\n",
    "    printf(s\"Resultat: ${secondLastElem(l.head, l.tail)}\")\n",
    "}\n",
    "secondLast(list)"
   ]
  },
  {
   "cell_type": "markdown",
   "metadata": {},
   "source": [
    "## 3. Das k-te Element einer Liste"
   ]
  },
  {
   "cell_type": "code",
   "execution_count": 12,
   "metadata": {
    "collapsed": false
   },
   "outputs": [
    {
     "name": "stdout",
     "output_type": "stream",
     "text": [
      "Resultat: 5"
     ]
    }
   ],
   "source": [
    "def kthElem[A](l: List[A])(k: Int): Unit = l.slice(k, k+1).foreach(x => print(\"Resultat: \" + x))\n",
    "\n",
    "val list = List(1, 2, 5, 3, 9, 2)\n",
    "kthElem(list)(2)"
   ]
  },
  {
   "cell_type": "markdown",
   "metadata": {},
   "source": [
    "## 8. Löschen von gleichen konsekutiven Elementen"
   ]
  },
  {
   "cell_type": "code",
   "execution_count": 4,
   "metadata": {
    "collapsed": false
   },
   "outputs": [
    {
     "name": "stdout",
     "output_type": "stream",
     "text": [
      "1 4 3 2 2 List()"
     ]
    }
   ],
   "source": [
    "def sameElem[A](l: List[A]): Unit = {\n",
    "    @annotation.tailrec\n",
    "    def sameNeighbour(h: A, t: List[A]): Unit =  match {\n",
    "        case h, t if h == t => sameNeighbour(tail.head, tail.tail)\n",
    "        case h, t => { printf(s\"${h} \"); sameNeighbour(t.head, t) }\n",
    "        case head => printf(s\"${head}\")\n",
    "    }\n",
    "    sameNeighbour(l.head, l.tail)\n",
    "}\n",
    "\n",
    "val list = List(1, 2, 2, 4, 3, 2, 9, 9, 2, 1)\n",
    "sameElem(list)"
   ]
  },
  {
   "cell_type": "code",
   "execution_count": null,
   "metadata": {
    "collapsed": true
   },
   "outputs": [],
   "source": []
  }
 ],
 "metadata": {
  "kernelspec": {
   "display_name": "Julia 0.4.1",
   "language": "julia",
   "name": "julia-0.4"
  },
  "language_info": {
   "name": "scala"
  }
 },
 "nbformat": 4,
 "nbformat_minor": 0
}
